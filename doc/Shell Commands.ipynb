{
 "metadata": {
  "name": "",
  "signature": "sha256:186f929abf7a9b3aad963792435be5f3984928ce9d92c1dac69e47321379fc5b"
 },
 "nbformat": 3,
 "nbformat_minor": 0,
 "worksheets": [
  {
   "cells": [
    {
     "cell_type": "heading",
     "level": 1,
     "metadata": {},
     "source": [
      "Shell Commands"
     ]
    },
    {
     "cell_type": "markdown",
     "metadata": {},
     "source": [
      "Show off the iPython notebook by creating a simple calculator application."
     ]
    },
    {
     "cell_type": "markdown",
     "metadata": {},
     "source": [
      "Start by asking the notebook for help.   To get the help window to appear, click on the '?' cell and type Ctrl-Return.\n",
      "This will bring up the ipython help in another pane."
     ]
    },
    {
     "cell_type": "code",
     "collapsed": true,
     "input": [
      "?"
     ],
     "language": "python",
     "metadata": {},
     "outputs": [],
     "prompt_number": 4
    },
    {
     "cell_type": "code",
     "collapsed": false,
     "input": [
      "ls -l"
     ],
     "language": "python",
     "metadata": {},
     "outputs": [
      {
       "output_type": "stream",
       "stream": "stdout",
       "text": [
        "total 40\r\n",
        "-rw------- 1 seaman seaman  2765 Jul 28 17:15 50 Tricks.ipynb\r\n",
        "-rw------- 1 seaman seaman  3382 Jul 28 17:14 Calculator.ipynb\r\n",
        "-rw------- 1 seaman seaman  4260 Jul 28 17:12 Learning iPython Notebook.ipynb\r\n",
        "-rw------- 1 seaman seaman  7218 Apr 18 13:31 Markdown Cells.ipynb\r\n",
        "-rw------- 1 seaman seaman 10118 Jul 28 17:12 Pipe Data Analyst.ipynb\r\n",
        "-rw------- 1 seaman seaman  3798 Apr 18 11:20 Shell Commands.ipynb\r\n"
       ]
      }
     ],
     "prompt_number": 1
    },
    {
     "cell_type": "markdown",
     "metadata": {},
     "source": [
      "You can just type in any shell command starting with a ! and Ctrl-Return to see the answer."
     ]
    },
    {
     "cell_type": "code",
     "collapsed": false,
     "input": [
      "!mkdir xxx\n",
      "!ls -l\n",
      "!rmdir xxx\n",
      "!ls -l"
     ],
     "language": "python",
     "metadata": {},
     "outputs": [
      {
       "output_type": "stream",
       "stream": "stdout",
       "text": [
        "total 44\r\n",
        "-rw------- 1 seaman seaman  2765 Jul 28 17:15 50 Tricks.ipynb\r\n",
        "-rw------- 1 seaman seaman  3382 Jul 28 17:14 Calculator.ipynb\r\n",
        "-rw------- 1 seaman seaman  4260 Jul 28 17:12 Learning iPython Notebook.ipynb\r\n",
        "-rw------- 1 seaman seaman  7218 Apr 18 13:31 Markdown Cells.ipynb\r\n",
        "-rw------- 1 seaman seaman 10118 Jul 28 17:12 Pipe Data Analyst.ipynb\r\n",
        "-rw------- 1 seaman seaman  3798 Apr 18 11:20 Shell Commands.ipynb\r\n",
        "drwxrwxr-x 2 seaman seaman  4096 Jul 28 17:16 xxx\r\n"
       ]
      },
      {
       "output_type": "stream",
       "stream": "stdout",
       "text": [
        "total 40\r\n",
        "-rw------- 1 seaman seaman  2765 Jul 28 17:15 50 Tricks.ipynb\r\n",
        "-rw------- 1 seaman seaman  3382 Jul 28 17:14 Calculator.ipynb\r\n",
        "-rw------- 1 seaman seaman  4260 Jul 28 17:12 Learning iPython Notebook.ipynb\r\n",
        "-rw------- 1 seaman seaman  7218 Apr 18 13:31 Markdown Cells.ipynb\r\n",
        "-rw------- 1 seaman seaman 10118 Jul 28 17:12 Pipe Data Analyst.ipynb\r\n",
        "-rw------- 1 seaman seaman  3798 Apr 18 11:20 Shell Commands.ipynb\r\n"
       ]
      }
     ],
     "prompt_number": 2
    },
    {
     "cell_type": "markdown",
     "metadata": {},
     "source": [
      "Use ls command directly."
     ]
    },
    {
     "cell_type": "code",
     "collapsed": false,
     "input": [
      "ls"
     ],
     "language": "python",
     "metadata": {},
     "outputs": [
      {
       "output_type": "stream",
       "stream": "stdout",
       "text": [
        "50 Tricks.ipynb   Learning iPython Notebook.ipynb  Pipe Data Analyst.ipynb\r\n",
        "Calculator.ipynb  Markdown Cells.ipynb             Shell Commands.ipynb\r\n"
       ]
      }
     ],
     "prompt_number": 3
    }
   ],
   "metadata": {}
  }
 ]
}