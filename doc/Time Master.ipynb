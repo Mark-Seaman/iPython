{
 "metadata": {
  "name": "",
  "signature": "sha256:302de2a685b4f1eb676c6fbd37ce8d10e08a203409c26c1f65d3e18d5f435116"
 },
 "nbformat": 3,
 "nbformat_minor": 0,
 "worksheets": [
  {
   "cells": [
    {
     "cell_type": "markdown",
     "metadata": {},
     "source": [
      "#Time Master\n",
      "\n",
      "Ideas and code snippets to build a time management tool.\n"
     ]
    },
    {
     "cell_type": "code",
     "collapsed": false,
     "input": [
      "print 'Time Master'\n"
     ],
     "language": "python",
     "metadata": {},
     "outputs": [
      {
       "output_type": "stream",
       "stream": "stdout",
       "text": [
        "Time Master\n"
       ]
      }
     ],
     "prompt_number": 2
    },
    {
     "cell_type": "code",
     "collapsed": false,
     "input": [
      "from PIL import Image\n",
      "from random import choice\n",
      "\n",
      "def make_image():\n",
      "    colors = [(255,255,0),(255,0,0),(0,255,0), (0,0,255),(0,225,255)]\n",
      "    data = [choice(colors) for i in range(98)] #randomly generated\n",
      "    image = Image.new('RGB', (10,10))  # 10x10 pixels\n",
      "    image.putdata(data)  # data loaded will wrap every 'width' pixels    \n",
      "    return image\n",
      "\n",
      "imshow(make_image(), interpolation='nearest')  #without nearest you get a fuzzy render of your tiny image data\n"
     ],
     "language": "python",
     "metadata": {},
     "outputs": [
      {
       "metadata": {},
       "output_type": "pyout",
       "prompt_number": 11,
       "text": [
        "<matplotlib.image.AxesImage at 0x7f49fc0b5190>"
       ]
      },
      {
       "metadata": {},
       "output_type": "display_data",
       "png": "[encoded data removed]",
       "text": [
        "<matplotlib.figure.Figure at 0x7f49fc0ac150>"
       ]
      }
     ],
     "prompt_number": 11
    },
    {
     "cell_type": "code",
     "collapsed": false,
     "input": [
      "week = '''gwwwwwwwwwwfff\n",
      "gwwwwwwwwwwccp\n",
      "gwwwwwwwwwffff\n",
      "gwwwwwwwwwwfff\n",
      "gwwwwwwwwwpppp\n",
      "ggccccpppfffff\n",
      "ccccppgggfffff'''.split('\\n')\n",
      "\n",
      "len(week) \n",
      "for d in week:\n",
      "    print [ h for h in d ]"
     ],
     "language": "python",
     "metadata": {},
     "outputs": [
      {
       "output_type": "stream",
       "stream": "stdout",
       "text": [
        "['g', 'w', 'w', 'w', 'w', 'w', 'w', 'w', 'w', 'w', 'w', 'f', 'f', 'f']\n",
        "['g', 'w', 'w', 'w', 'w', 'w', 'w', 'w', 'w', 'w', 'w', 'c', 'c', 'p']\n",
        "['g', 'w', 'w', 'w', 'w', 'w', 'w', 'w', 'w', 'w', 'f', 'f', 'f', 'f']\n",
        "['g', 'w', 'w', 'w', 'w', 'w', 'w', 'w', 'w', 'w', 'w', 'f', 'f', 'f']\n",
        "['g', 'w', 'w', 'w', 'w', 'w', 'w', 'w', 'w', 'w', 'p', 'p', 'p', 'p']\n",
        "['g', 'g', 'c', 'c', 'c', 'c', 'p', 'p', 'p', 'f', 'f', 'f', 'f', 'f']\n",
        "['c', 'c', 'c', 'c', 'p', 'p', 'g', 'g', 'g', 'f', 'f', 'f', 'f', 'f']\n"
       ]
      }
     ],
     "prompt_number": 1
    },
    {
     "cell_type": "code",
     "collapsed": false,
     "input": [
      "colormap = { 'g': (255,255,0), 'w':(255,0,0), 'p': (0,255,0), 'f': (0,0,255), 'c':(0,225,255) }\n",
      "colormap['f']\n"
     ],
     "language": "python",
     "metadata": {},
     "outputs": [
      {
       "metadata": {},
       "output_type": "pyout",
       "prompt_number": 5,
       "text": [
        "(0, 0, 255)"
       ]
      }
     ],
     "prompt_number": 5
    },
    {
     "cell_type": "code",
     "collapsed": false,
     "input": [
      "for d in week:\n",
      "    print [ colormap[h] for h in d ]"
     ],
     "language": "python",
     "metadata": {},
     "outputs": [
      {
       "output_type": "stream",
       "stream": "stdout",
       "text": [
        "[(255, 255, 0), (255, 0, 0), (255, 0, 0), (255, 0, 0), (255, 0, 0), (255, 0, 0), (255, 0, 0), (255, 0, 0), (255, 0, 0), (255, 0, 0), (255, 0, 0), (0, 0, 255), (0, 0, 255), (0, 0, 255)]\n",
        "[(255, 255, 0), (255, 0, 0), (255, 0, 0), (255, 0, 0), (255, 0, 0), (255, 0, 0), (255, 0, 0), (255, 0, 0), (255, 0, 0), (255, 0, 0), (255, 0, 0), (0, 225, 255), (0, 225, 255), (0, 255, 0)]\n",
        "[(255, 255, 0), (255, 0, 0), (255, 0, 0), (255, 0, 0), (255, 0, 0), (255, 0, 0), (255, 0, 0), (255, 0, 0), (255, 0, 0), (255, 0, 0), (0, 0, 255), (0, 0, 255), (0, 0, 255), (0, 0, 255)]\n",
        "[(255, 255, 0), (255, 0, 0), (255, 0, 0), (255, 0, 0), (255, 0, 0), (255, 0, 0), (255, 0, 0), (255, 0, 0), (255, 0, 0), (255, 0, 0), (255, 0, 0), (0, 0, 255), (0, 0, 255), (0, 0, 255)]\n",
        "[(255, 255, 0), (255, 0, 0), (255, 0, 0), (255, 0, 0), (255, 0, 0), (255, 0, 0), (255, 0, 0), (255, 0, 0), (255, 0, 0), (255, 0, 0), (0, 255, 0), (0, 255, 0), (0, 255, 0), (0, 255, 0)]\n",
        "[(255, 255, 0), (255, 255, 0), (0, 225, 255), (0, 225, 255), (0, 225, 255), (0, 225, 255), (0, 255, 0), (0, 255, 0), (0, 255, 0), (0, 0, 255), (0, 0, 255), (0, 0, 255), (0, 0, 255), (0, 0, 255)]\n",
        "[(0, 225, 255), (0, 225, 255), (0, 225, 255), (0, 225, 255), (0, 255, 0), (0, 255, 0), (255, 255, 0), (255, 255, 0), (255, 255, 0), (0, 0, 255), (0, 0, 255), (0, 0, 255), (0, 0, 255), (0, 0, 255)]\n"
       ]
      }
     ],
     "prompt_number": 6
    },
    {
     "cell_type": "code",
     "collapsed": false,
     "input": [
      "data = []\n",
      "for d in week:\n",
      "    data += [ colormap[h] for h in d ] \n",
      "data"
     ],
     "language": "python",
     "metadata": {},
     "outputs": [
      {
       "metadata": {},
       "output_type": "pyout",
       "prompt_number": 9,
       "text": [
        "[(255, 255, 0),\n",
        " (255, 0, 0),\n",
        " (255, 0, 0),\n",
        " (255, 0, 0),\n",
        " (255, 0, 0),\n",
        " (255, 0, 0),\n",
        " (255, 0, 0),\n",
        " (255, 0, 0),\n",
        " (255, 0, 0),\n",
        " (255, 0, 0),\n",
        " (255, 0, 0),\n",
        " (0, 0, 255),\n",
        " (0, 0, 255),\n",
        " (0, 0, 255),\n",
        " (255, 255, 0),\n",
        " (255, 0, 0),\n",
        " (255, 0, 0),\n",
        " (255, 0, 0),\n",
        " (255, 0, 0),\n",
        " (255, 0, 0),\n",
        " (255, 0, 0),\n",
        " (255, 0, 0),\n",
        " (255, 0, 0),\n",
        " (255, 0, 0),\n",
        " (255, 0, 0),\n",
        " (0, 225, 255),\n",
        " (0, 225, 255),\n",
        " (0, 255, 0),\n",
        " (255, 255, 0),\n",
        " (255, 0, 0),\n",
        " (255, 0, 0),\n",
        " (255, 0, 0),\n",
        " (255, 0, 0),\n",
        " (255, 0, 0),\n",
        " (255, 0, 0),\n",
        " (255, 0, 0),\n",
        " (255, 0, 0),\n",
        " (255, 0, 0),\n",
        " (0, 0, 255),\n",
        " (0, 0, 255),\n",
        " (0, 0, 255),\n",
        " (0, 0, 255),\n",
        " (255, 255, 0),\n",
        " (255, 0, 0),\n",
        " (255, 0, 0),\n",
        " (255, 0, 0),\n",
        " (255, 0, 0),\n",
        " (255, 0, 0),\n",
        " (255, 0, 0),\n",
        " (255, 0, 0),\n",
        " (255, 0, 0),\n",
        " (255, 0, 0),\n",
        " (255, 0, 0),\n",
        " (0, 0, 255),\n",
        " (0, 0, 255),\n",
        " (0, 0, 255),\n",
        " (255, 255, 0),\n",
        " (255, 0, 0),\n",
        " (255, 0, 0),\n",
        " (255, 0, 0),\n",
        " (255, 0, 0),\n",
        " (255, 0, 0),\n",
        " (255, 0, 0),\n",
        " (255, 0, 0),\n",
        " (255, 0, 0),\n",
        " (255, 0, 0),\n",
        " (0, 255, 0),\n",
        " (0, 255, 0),\n",
        " (0, 255, 0),\n",
        " (0, 255, 0),\n",
        " (255, 255, 0),\n",
        " (255, 255, 0),\n",
        " (0, 225, 255),\n",
        " (0, 225, 255),\n",
        " (0, 225, 255),\n",
        " (0, 225, 255),\n",
        " (0, 255, 0),\n",
        " (0, 255, 0),\n",
        " (0, 255, 0),\n",
        " (0, 0, 255),\n",
        " (0, 0, 255),\n",
        " (0, 0, 255),\n",
        " (0, 0, 255),\n",
        " (0, 0, 255),\n",
        " (0, 225, 255),\n",
        " (0, 225, 255),\n",
        " (0, 225, 255),\n",
        " (0, 225, 255),\n",
        " (0, 255, 0),\n",
        " (0, 255, 0),\n",
        " (255, 255, 0),\n",
        " (255, 255, 0),\n",
        " (255, 255, 0),\n",
        " (0, 0, 255),\n",
        " (0, 0, 255),\n",
        " (0, 0, 255),\n",
        " (0, 0, 255),\n",
        " (0, 0, 255)]"
       ]
      }
     ],
     "prompt_number": 9
    },
    {
     "cell_type": "code",
     "collapsed": false,
     "input": [
      "\n",
      "def make_image(data):\n",
      "    image = Image.new('RGB', (14,7)) # 14 hours x 7 days\n",
      "    image.putdata(data)  # data loaded will wrap every 'width' pixels    \n",
      "    return image\n",
      "\n",
      "imshow(make_image(data), interpolation='nearest') \n"
     ],
     "language": "python",
     "metadata": {},
     "outputs": [
      {
       "metadata": {},
       "output_type": "pyout",
       "prompt_number": 12,
       "text": [
        "<matplotlib.image.AxesImage at 0x7f49f2a3a0d0>"
       ]
      },
      {
       "metadata": {},
       "output_type": "display_data",
       "png": "[encoded data removed]",
       "text": [
        "<matplotlib.figure.Figure at 0x7f49fc4669d0>"
       ]
      }
     ],
     "prompt_number": 12
    },
    {
     "cell_type": "code",
     "collapsed": false,
     "input": [
      "from pylab import *\n",
      "A = rand(7,14)\n",
      "figure(1)\n",
      "imshow(A, interpolation='nearest')\n",
      "grid(True)\n",
      "\n",
      "show()\n",
      "figsize(20,20)"
     ],
     "language": "python",
     "metadata": {},
     "outputs": [
      {
       "metadata": {},
       "output_type": "display_data",
       "png": "[encoded data removed]",
       "text": [
        "<matplotlib.figure.Figure at 0x7ffaa45bf1d0>"
       ]
      }
     ],
     "prompt_number": 68
    }
   ],
   "metadata": {}
  }
 ]
}