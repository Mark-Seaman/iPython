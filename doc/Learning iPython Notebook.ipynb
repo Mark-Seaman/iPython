{
 "metadata": {
  "name": ""
 },
 "nbformat": 3,
 "nbformat_minor": 0,
 "worksheets": [
  {
   "cells": [
    {
     "cell_type": "markdown",
     "metadata": {},
     "source": [
      "iPython Jump Start\n",
      "===================\n",
      "\n",
      "This is a notebook that will help you learn the basics of using iPython notebook.\n",
      "\n",
      " * Setup\n",
      " * Opening a notebook\n",
      " * Modifying content\n",
      " * Saving the notebook\n",
      " * Adding python code\n",
      " * Executing python code"
     ]
    },
    {
     "cell_type": "markdown",
     "metadata": {},
     "source": [
      "Setup\n",
      "======\n",
      "\n",
      "To install the iPython notebook on Ubuntu."
     ]
    },
    {
     "cell_type": "code",
     "collapsed": true,
     "input": [
      " $ sudo apt-get install -y ipython-notebook"
     ],
     "language": "python",
     "metadata": {},
     "outputs": []
    },
    {
     "cell_type": "markdown",
     "metadata": {},
     "source": [
      "To install on other operating systems go to http://ipython.org/documentation.html."
     ]
    },
    {
     "cell_type": "markdown",
     "metadata": {},
     "source": [
      "Open a notebook\n",
      "================\n",
      "\n",
      "Run the server in the document directory.\n",
      "\n",
      "Select the document from the list."
     ]
    },
    {
     "cell_type": "markdown",
     "metadata": {},
     "source": [
      "Modify a notebook\n",
      "==================\n",
      "\n",
      "Click on the cell you wish to change.  \n",
      "\n",
      "Modify the content by typing new content into the cell.\n",
      "\n",
      "Select the format of the cell to be either Code or Markdown."
     ]
    },
    {
     "cell_type": "markdown",
     "metadata": {},
     "source": [
      "Executing Code\n",
      "===============\n",
      "If the cell contains Code then it can be executed right in the notebook.\n",
      "\n",
      "SHIFT-Return will run the python code directly.\n",
      "\n",
      "Shell scripts can be run by putting a ! as the first character on the line.\n",
      "\n",
      "A python module can the loaded by %load mycode.This will load 'mycode.py'.\n",
      "\n",
      "A python script can be executed by %run mycode.  This will execute 'mycode.py'.\n",
      "\n",
      "When the code is executed the output is placed in the notebook."
     ]
    },
    {
     "cell_type": "code",
     "collapsed": false,
     "input": [
      "print 'hey there'"
     ],
     "language": "python",
     "metadata": {},
     "outputs": [
      {
       "output_type": "stream",
       "stream": "stdout",
       "text": [
        "hey there"
       ]
      }
     ],
     "prompt_number": 3
    },
    {
     "cell_type": "code",
     "collapsed": false,
     "input": [
      "!ls"
     ],
     "language": "python",
     "metadata": {},
     "outputs": [
      {
       "output_type": "stream",
       "stream": "stdout",
       "text": [
        "50 Tricks.ipynb    Learning iPython Notebook.ipynb  Shell Commands.ipynb\n",
        "Calculator.ipynb   Pipe Data Analyst.ipynb\n",
        "Calculator.ipynb~  Search101.ipynb"
       ]
      }
     ],
     "prompt_number": 7
    },
    {
     "cell_type": "code",
     "collapsed": false,
     "input": [
      "!find"
     ],
     "language": "python",
     "metadata": {},
     "outputs": [
      {
       "output_type": "stream",
       "stream": "stdout",
       "text": [
        ".\n",
        "./50 Tricks.ipynb\n",
        "./Search101.ipynb\n",
        "./Learning iPython Notebook.ipynb\n",
        "./Calculator.ipynb\n",
        "./Pipe Data Analyst.ipynb\n",
        "./Calculator.ipynb~\n",
        "./Shell Commands.ipynb"
       ]
      }
     ],
     "prompt_number": 11
    },
    {
     "cell_type": "code",
     "collapsed": true,
     "input": [
      "import pandas\n",
      "pandas.read_csv"
     ],
     "language": "python",
     "metadata": {},
     "outputs": [
      {
       "metadata": {},
       "output_type": "pyout",
       "prompt_number": 1,
       "text": [
        "<function pandas.io.parsers.read_csv>"
       ]
      }
     ],
     "prompt_number": 1
    }
   ],
   "metadata": {}
  }
 ]
}