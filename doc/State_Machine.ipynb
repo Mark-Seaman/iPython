{
 "metadata": {
  "name": "",
  "signature": "sha256:4a1af3a80f145737798d5ac7dfcaa9122020ccaf08343ca985243d7e765625d1"
 },
 "nbformat": 3,
 "nbformat_minor": 0,
 "worksheets": [
  {
   "cells": [
    {
     "cell_type": "heading",
     "level": 1,
     "metadata": {},
     "source": [
      "\n",
      "State Machine\n"
     ]
    },
    {
     "cell_type": "markdown",
     "metadata": {},
     "source": [
      "Design the worlds simplest state machine for a recording controller.\n"
     ]
    },
    {
     "cell_type": "code",
     "collapsed": false,
     "input": [
      "print 'State Machine'"
     ],
     "language": "python",
     "metadata": {},
     "outputs": [
      {
       "output_type": "stream",
       "stream": "stdout",
       "text": [
        "State Machine\n"
       ]
      }
     ],
     "prompt_number": 1
    },
    {
     "cell_type": "code",
     "collapsed": false,
     "input": [
      "states = { 'off'   : { 'begin':'idle' },\n",
      "           'idle'  : { 'end'  :'off',   'start':'record' } ,\n",
      "           'record': { 'pause':'pause', 'stop' :'idle',  'no_chunks':'error' },\n",
      "           'pause' : { 'resume':'record', 'stop':'idle' },\n",
      "           'error' : {'chunks':'record'}}\n",
      "print states"
     ],
     "language": "python",
     "metadata": {},
     "outputs": [
      {
       "output_type": "stream",
       "stream": "stdout",
       "text": [
        "{'record': {'pause': 'pause', 'stop': 'idle', 'no_chunks': 'error'}, 'idle': {'start': 'record', 'end': 'off'}, 'pause': {'stop': 'idle', 'resume': 'record'}, 'off': {'begin': 'idle'}, 'error': {'chunks': 'record'}}\n"
       ]
      }
     ],
     "prompt_number": 4
    },
    {
     "cell_type": "code",
     "collapsed": false,
     "input": [
      "def next_state(s,e):\n",
      "    print 'Event:',e\n",
      "    if states[s].has_key(e):\n",
      "        s = states[s][e]\n",
      "        print \"Next state:\", s\n",
      "    return s\n",
      "\n",
      "events = [ 'begin', 'end', 'begin', 'start', 'xxx', 'stop', 'start', 'no_chunks','chunks','pause','resume',\n",
      "          'pause', 'resume', 'stop', 'end' ]\n",
      "s = 'off'\n",
      "\n",
      "for e in events:\n",
      "    s = next_state(s,e)s\n"
     ],
     "language": "python",
     "metadata": {},
     "outputs": [
      {
       "output_type": "stream",
       "stream": "stdout",
       "text": [
        "Event: begin\n",
        "Next state: idle\n",
        "Event: end\n",
        "Next state: off\n",
        "Event: begin\n",
        "Next state: idle\n",
        "Event: start\n",
        "Next state: record\n",
        "Event: xxx\n",
        "Event: stop\n",
        "Next state: idle\n",
        "Event: start\n",
        "Next state: record\n",
        "Event: no_chunks\n",
        "Next state: error\n",
        "Event: chunks\n",
        "Next state: record\n",
        "Event: pause\n",
        "Next state: pause\n",
        "Event: resume\n",
        "Next state: record\n",
        "Event: pause\n",
        "Next state: pause\n",
        "Event: resume\n",
        "Next state: record\n",
        "Event: stop\n",
        "Next state: idle\n",
        "Event: end\n",
        "Next state: off\n"
       ]
      }
     ],
     "prompt_number": 3
    }
   ],
   "metadata": {}
  }
 ]
}