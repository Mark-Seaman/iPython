{
 "metadata": {
  "name": ""
 },
 "nbformat": 3,
 "nbformat_minor": 0,
 "worksheets": [
  {
   "cells": [
    {
     "cell_type": "heading",
     "level": 1,
     "metadata": {},
     "source": [
      "Calculator"
     ]
    },
    {
     "cell_type": "markdown",
     "metadata": {},
     "source": [
      "Show off the iPython notebook by creating a simple calculator application."
     ]
    },
    {
     "cell_type": "markdown",
     "metadata": {},
     "source": [
      "Start by asking the notebook for help.   To get the help window to appear, click on the '?' cell and type Ctrl-Return.\n",
      "This will bring up the ipython help in another pane."
     ]
    },
    {
     "cell_type": "code",
     "collapsed": true,
     "input": [
      "?"
     ],
     "language": "python",
     "metadata": {},
     "outputs": [],
     "prompt_number": 2
    },
    {
     "cell_type": "code",
     "collapsed": false,
     "input": [
      "ls -l"
     ],
     "language": "python",
     "metadata": {},
     "outputs": [
      {
       "output_type": "stream",
       "stream": "stdout",
       "text": [
        "total 136\r\n",
        "-rw------- 1 seaman seaman  2740 Jul 28 17:12 50 Tricks.ipynb\r\n",
        "-rw------- 1 seaman seaman  3124 Apr 18 12:34 Calculator.ipynb\r\n",
        "-rw------- 1 seaman seaman  4260 Jul 28 17:12 Learning iPython Notebook.ipynb\r\n",
        "-rw------- 1 seaman seaman  7218 Apr 18 13:31 Markdown Cells.ipynb\r\n",
        "-rw------- 1 seaman seaman 10118 Jul 28 17:12 Pipe Data Analyst.ipynb\r\n",
        "-rw------- 1 seaman seaman 94296 Apr 18 11:20 Search101.ipynb\r\n",
        "-rw------- 1 seaman seaman  3798 Apr 18 11:20 Shell Commands.ipynb\r\n"
       ]
      }
     ],
     "prompt_number": 3
    },
    {
     "cell_type": "markdown",
     "metadata": {},
     "source": [
      "You can just type in an expression of numbers and Ctrl-Return to see the answer."
     ]
    },
    {
     "cell_type": "code",
     "collapsed": false,
     "input": [
      "42+90-50"
     ],
     "language": "python",
     "metadata": {},
     "outputs": [
      {
       "metadata": {},
       "output_type": "pyout",
       "prompt_number": 4,
       "text": [
        "82"
       ]
      }
     ],
     "prompt_number": 4
    },
    {
     "cell_type": "markdown",
     "metadata": {},
     "source": [
      "You can assign variables and use them later."
     ]
    },
    {
     "cell_type": "code",
     "collapsed": false,
     "input": [
      "r=2\n",
      "3.14 * r * r"
     ],
     "language": "python",
     "metadata": {},
     "outputs": [
      {
       "metadata": {},
       "output_type": "pyout",
       "prompt_number": 5,
       "text": [
        "12.56"
       ]
      }
     ],
     "prompt_number": 5
    },
    {
     "cell_type": "markdown",
     "metadata": {},
     "source": [
      "You can also use symbols from the math library, like PI."
     ]
    },
    {
     "cell_type": "code",
     "collapsed": false,
     "input": [
      "\n",
      "from math import pi\n",
      "\n",
      "area = pi*r*r\n",
      "print area"
     ],
     "language": "python",
     "metadata": {},
     "outputs": [
      {
       "output_type": "stream",
       "stream": "stdout",
       "text": [
        "12.5663706144\n"
       ]
      }
     ],
     "prompt_number": 6
    }
   ],
   "metadata": {}
  }
 ]
}