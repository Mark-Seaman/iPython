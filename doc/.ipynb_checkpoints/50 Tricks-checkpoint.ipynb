{
 "metadata": {
  "name": "",
  "signature": "sha256:25f61fd81f6d0c16a76f9ad71084286af099e1e652c709da24879f249b53eb77"
 },
 "nbformat": 3,
 "nbformat_minor": 0,
 "worksheets": [
  {
   "cells": [
    {
     "cell_type": "heading",
     "level": 1,
     "metadata": {},
     "source": [
      "50 Tricks"
     ]
    },
    {
     "cell_type": "markdown",
     "metadata": {},
     "source": [
      "Learn a little bit every day.\n",
      "\n",
      "I'm trying an experiment.  For the next month, I'm going to develop 1 new trick every day.\n",
      "\n",
      "If this works well, a subscriber list will be set up to automatically share these snippets with others.\n",
      "\n",
      "For now, I will just email them to a few of my closest friends and partners.\n",
      "\n",
      "**What is a trick ?**\n",
      "\n",
      " * a software snippet that solves a specific problem\n",
      " * a solution that can be generalized to slove similar problems\n",
      " * can be learned in less than two minutes\n",
      " * can save an hour of work\n",
      " \n",
      "Let me know if you are not interested in receiving this type of email.\n",
      "\n"
     ]
    },
    {
     "cell_type": "markdown",
     "metadata": {},
     "source": [
      "**Trick #1 - Read in a table**\n",
      "\n",
      "Data often comes in formatted as a table.  This is usually contained in a CSV (comma-separated file).\n",
      "\n",
      "It is easy to read the data into a program in order to manipulate it.\n",
      "\n",
      "The following example written in Python will read a table into memory.  Then it prints the table with 10 spaces for each column.\n"
     ]
    },
    {
     "cell_type": "code",
     "collapsed": false,
     "input": [
      "text = '''green,1,2,3\n",
      "yellow,4,5,6\n",
      "red,7,8,9'''\n",
      "\n",
      "for line in text.split('\\n'):\n",
      "    for column in  line.split(','):\n",
      "        print \"%-10s\"%column,\n",
      "    print\n",
      "\n"
     ],
     "language": "python",
     "metadata": {},
     "outputs": [
      {
       "output_type": "stream",
       "stream": "stdout",
       "text": [
        "green      1          2          3         \n",
        "yellow     4          5          6         \n",
        "red        7          8          9         \n"
       ]
      }
     ],
     "prompt_number": 2
    },
    {
     "cell_type": "code",
     "collapsed": false,
     "input": [
      "def import_csv(csvfile):\n",
      "    with open(csvfile) as f:\n",
      "        return [ x for x in reader(f, delimiter=',', quotechar='\"') ]\n"
     ],
     "language": "python",
     "metadata": {},
     "outputs": [],
     "prompt_number": 1
    }
   ],
   "metadata": {}
  }
 ]
}