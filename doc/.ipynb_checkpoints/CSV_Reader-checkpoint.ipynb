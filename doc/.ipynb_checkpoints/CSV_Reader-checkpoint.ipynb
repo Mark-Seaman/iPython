{
 "metadata": {
  "name": "",
  "signature": "sha256:5f754d0ade1b4b9538060b92ba19e992eb1abb2c84aea05c89c9be0e5c73e530"
 },
 "nbformat": 3,
 "nbformat_minor": 0,
 "worksheets": [
  {
   "cells": [
    {
     "cell_type": "markdown",
     "metadata": {},
     "source": [
      "# Data Files\n",
      "\n",
      "Create a data file with and without column headers."
     ]
    },
    {
     "cell_type": "code",
     "collapsed": false,
     "input": [
      "%%file with_header.csv\n",
      "id,name,age,height,weight\n",
      "1,Alice,20,62,120.6\n",
      "2,Freddie,21,74,190.6\n",
      "3,Bob,17,68,120.0"
     ],
     "language": "python",
     "metadata": {},
     "outputs": [
      {
       "output_type": "stream",
       "stream": "stdout",
       "text": [
        "Overwriting with_header.csv\n"
       ]
      }
     ],
     "prompt_number": 1
    },
    {
     "cell_type": "code",
     "collapsed": false,
     "input": [
      "!cat with_header.csv"
     ],
     "language": "python",
     "metadata": {},
     "outputs": [
      {
       "output_type": "stream",
       "stream": "stdout",
       "text": [
        "id,name,age,height,weight\r\n",
        "1,Alice,20,62,120.6\r\n",
        "2,Freddie,21,74,190.6\r\n",
        "3,Bob,17,68,120.0"
       ]
      }
     ],
     "prompt_number": 2
    },
    {
     "cell_type": "code",
     "collapsed": false,
     "input": [
      "%%file no_header.csv\n",
      "1,Alice,20,62,120.6\n",
      "2,Freddie,21,74,190.6\n",
      "3,Bob,17,68,120.0"
     ],
     "language": "python",
     "metadata": {},
     "outputs": [
      {
       "output_type": "stream",
       "stream": "stdout",
       "text": [
        "Overwriting no_header.csv\n"
       ]
      }
     ],
     "prompt_number": 3
    },
    {
     "cell_type": "code",
     "collapsed": false,
     "input": [
      "!cat no_header.csv"
     ],
     "language": "python",
     "metadata": {},
     "outputs": [
      {
       "output_type": "stream",
       "stream": "stdout",
       "text": [
        "1,Alice,20,62,120.6\r\n",
        "2,Freddie,21,74,190.6\r\n",
        "3,Bob,17,68,120.0"
       ]
      }
     ],
     "prompt_number": 4
    },
    {
     "cell_type": "markdown",
     "metadata": {},
     "source": [
      "# Read with headers\n",
      "\n",
      "Use a CSV reader to parse data with headers.  Print out the dictionary entries that are parsed."
     ]
    },
    {
     "cell_type": "code",
     "collapsed": false,
     "input": [
      "import csv\n",
      "input_file = csv.DictReader(open(\"with_header.csv\"))\n",
      "for row in input_file:\n",
      "    print row\n"
     ],
     "language": "python",
     "metadata": {},
     "outputs": [
      {
       "output_type": "stream",
       "stream": "stdout",
       "text": [
        "{'age': '20', 'height': '62', 'id': '1', 'weight': '120.6', 'name': 'Alice'}\n",
        "{'age': '21', 'height': '74', 'id': '2', 'weight': '190.6', 'name': 'Freddie'}\n",
        "{'age': '17', 'height': '68', 'id': '3', 'weight': '120.0', 'name': 'Bob'}\n"
       ]
      }
     ],
     "prompt_number": 5
    },
    {
     "cell_type": "code",
     "collapsed": false,
     "input": [
      "import csv\n",
      "input_file = csv.DictReader(open(\"no_header.csv\"))\n",
      "for row in input_file:\n",
      "    print row\n"
     ],
     "language": "python",
     "metadata": {},
     "outputs": [
      {
       "output_type": "stream",
       "stream": "stdout",
       "text": [
        "{'1': '2', '62': '74', '20': '21', 'Alice': 'Freddie', '120.6': '190.6'}\n",
        "{'1': '3', '62': '68', '20': '17', 'Alice': 'Bob', '120.6': '120.0'}\n"
       ]
      }
     ],
     "prompt_number": 6
    },
    {
     "cell_type": "markdown",
     "metadata": {},
     "source": [
      "# Access the columns using the header\n",
      "\n",
      "Note that this will only work if the data file provides the correct header names.  \n",
      "\n",
      "Otherwise there will be a mismatch for the column names.  This will cause an exception.\n"
     ]
    },
    {
     "cell_type": "code",
     "collapsed": false,
     "input": [
      "input_file = csv.DictReader(open(\"with_header.csv\"))\n",
      "for row in input_file:\n",
      "    print ','.join([ row['name'], row['age'] ])"
     ],
     "language": "python",
     "metadata": {},
     "outputs": [
      {
       "output_type": "stream",
       "stream": "stdout",
       "text": [
        "Alice,20\n",
        "Freddie,21\n",
        "Bob,17\n"
       ]
      }
     ],
     "prompt_number": 7
    },
    {
     "cell_type": "markdown",
     "metadata": {},
     "source": [
      "# Read the first line to see if it contains the names\n",
      "\n",
      "The first line should contain all of the required names of the columns."
     ]
    },
    {
     "cell_type": "code",
     "collapsed": false,
     "input": [
      "first_line = open('with_header.csv').read().split('\\n')\n",
      "columns = first_line[0].split(',')\n",
      "names = ['name','age','weight']\n",
      "for n in names:\n",
      "    if not n in columns:\n",
      "        print 'Bad input file', n, columns"
     ],
     "language": "python",
     "metadata": {},
     "outputs": [],
     "prompt_number": 9
    },
    {
     "cell_type": "markdown",
     "metadata": {},
     "source": [
      "# Parse the first line\n",
      "\n",
      "Make sure that all of the required names are present."
     ]
    },
    {
     "cell_type": "code",
     "collapsed": false,
     "input": [
      "def file_ok(filename):\n",
      "    first_line = open(filename).read().split('\\n')\n",
      "    columns = first_line[0].split(',')\n",
      "    names = ['name','age','weight']\n",
      "    for n in names:\n",
      "        if not n in columns:\n",
      "            print 'Bad input line: missing \"%s\"'%n, columns \n",
      "            return False\n",
      "    return True\n",
      "\n",
      "def read_file(filename):\n",
      "    if file_ok(filename):\n",
      "        print open(filename).read()\n",
      "    else:\n",
      "        print 'Bad file: %s'%filename\n",
      "\n",
      "read_file('with_header.csv')\n",
      "read_file('no_header.csv')"
     ],
     "language": "python",
     "metadata": {},
     "outputs": [
      {
       "output_type": "stream",
       "stream": "stdout",
       "text": [
        "id,name,age,height,weight\n",
        "1,Alice,20,62,120.6\n",
        "2,Freddie,21,74,190.6\n",
        "3,Bob,17,68,120.0\n",
        "Bad input line: missing \"name\" ['1', 'Alice', '20', '62', '120.6']\n",
        "Bad file: no_header.csv\n"
       ]
      }
     ],
     "prompt_number": 12
    },
    {
     "cell_type": "code",
     "collapsed": false,
     "input": [],
     "language": "python",
     "metadata": {},
     "outputs": []
    }
   ],
   "metadata": {}
  }
 ]
}